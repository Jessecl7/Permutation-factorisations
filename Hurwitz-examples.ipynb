{
 "cells": [
  {
   "cell_type": "code",
   "execution_count": 5,
   "metadata": {},
   "outputs": [],
   "source": [
    "load(\"hurwitzequiv.sage\", \"hurwitzcalcs.sage\", \"facttest.sage\")"
   ]
  },
  {
   "cell_type": "code",
   "execution_count": 6,
   "metadata": {},
   "outputs": [
    {
     "name": "stdout",
     "output_type": "stream",
     "text": [
      "4577\n",
      "32281\n"
     ]
    }
   ],
   "source": [
    "equivfacts(\"(1,2,4)\",\"(1,2,3)(4,5)\",5,5)\n",
    "#Finds all tuples of 5 transpositions that multiply with the first permutation to make the second permutation.\n",
    "#Outputs the number that are made from different sets of transpositions, and the total number."
   ]
  },
  {
   "cell_type": "code",
   "execution_count": 8,
   "metadata": {},
   "outputs": [
    {
     "name": "stdout",
     "output_type": "stream",
     "text": [
      "2331\n",
      "[0, 24, 298, 833, 1176]\n"
     ]
    }
   ],
   "source": [
    "monotonehurwitz(\"(1,2,4)\",\"(1,2,3)(4,5)\",5,5)\n",
    "#Similar to the above program, but only counts monotone factorisations."
   ]
  },
  {
   "cell_type": "code",
   "execution_count": 14,
   "metadata": {},
   "outputs": [
    {
     "name": "stdout",
     "output_type": "stream",
     "text": [
      "(3,5)(4,5)(1,2)(2,3)(2,3)(1,3)\n",
      "(3,5)(4,5)(1,2)(2,4)(2,4)(1,3)\n",
      "(3,5)(4,5)(1,2)(2,5)(2,5)(1,3)\n",
      "(3,5)(4,5)(1,4)(2,3)(2,4)(1,4)\n",
      "(3,4)(4,5)(1,5)(2,3)(2,5)(1,4)\n",
      "(3,5)(4,5)(1,5)(2,3)(2,5)(1,5)\n",
      "6\n"
     ]
    }
   ],
   "source": [
    "parkingfacts(\"(1,2,3,4,5)\",[3,4,1,2,2,1],6,5)\n",
    "#Counts the number of factorisations of the given element, with lower sequence given by the second parameter."
   ]
  },
  {
   "cell_type": "code",
   "execution_count": 16,
   "metadata": {},
   "outputs": [
    {
     "data": {
      "text/plain": [
       "['36 transitive factorisations of (1,5,3)(2,4)',\n",
       " '71 transitive factorisations of (1,2,3)(4,5)',\n",
       " '56 transitive factorisations of (1,5)(2,3,4)',\n",
       " '101 transitive factorisations of (1,4)(2,5,3)',\n",
       " '101 transitive factorisations of (1,4,5)(2,3)',\n",
       " '101 transitive factorisations of (1,3,4)(2,5)',\n",
       " '71 transitive factorisations of (1,3)(2,4,5)',\n",
       " '51 transitive factorisations of (1,2,4)(3,5)',\n",
       " '71 transitive factorisations of (1,3)(2,5,4)',\n",
       " '36 transitive factorisations of (1,2)(3,4,5)',\n",
       " '101 transitive factorisations of (1,4,3)(2,5)',\n",
       " '36 transitive factorisations of (1,3,5)(2,4)',\n",
       " '36 transitive factorisations of (1,2)(3,5,4)',\n",
       " '101 transitive factorisations of (1,5,4)(2,3)',\n",
       " '56 transitive factorisations of (1,5)(2,4,3)',\n",
       " '56 transitive factorisations of (1,2,5)(3,4)',\n",
       " '51 transitive factorisations of (1,4,2)(3,5)',\n",
       " '56 transitive factorisations of (1,5,2)(3,4)',\n",
       " '71 transitive factorisations of (1,3,2)(4,5)',\n",
       " '101 transitive factorisations of (1,4)(2,3,5)',\n",
       " '36 of these have each symbol occuring at most twice (1,5,3)(2,4)',\n",
       " '71 of these have each symbol occuring at most twice (1,2,3)(4,5)',\n",
       " '56 of these have each symbol occuring at most twice (1,5)(2,3,4)',\n",
       " '101 of these have each symbol occuring at most twice (1,4)(2,5,3)',\n",
       " '101 of these have each symbol occuring at most twice (1,4,5)(2,3)',\n",
       " '101 of these have each symbol occuring at most twice (1,3,4)(2,5)',\n",
       " '71 of these have each symbol occuring at most twice (1,3)(2,4,5)',\n",
       " '51 of these have each symbol occuring at most twice (1,2,4)(3,5)',\n",
       " '71 of these have each symbol occuring at most twice (1,3)(2,5,4)',\n",
       " '36 of these have each symbol occuring at most twice (1,2)(3,4,5)',\n",
       " '101 of these have each symbol occuring at most twice (1,4,3)(2,5)',\n",
       " '36 of these have each symbol occuring at most twice (1,3,5)(2,4)',\n",
       " '36 of these have each symbol occuring at most twice (1,2)(3,5,4)',\n",
       " '101 of these have each symbol occuring at most twice (1,5,4)(2,3)',\n",
       " '56 of these have each symbol occuring at most twice (1,5)(2,4,3)',\n",
       " '56 of these have each symbol occuring at most twice (1,2,5)(3,4)',\n",
       " '51 of these have each symbol occuring at most twice (1,4,2)(3,5)',\n",
       " '56 of these have each symbol occuring at most twice (1,5,2)(3,4)',\n",
       " '71 of these have each symbol occuring at most twice (1,3,2)(4,5)',\n",
       " '101 of these have each symbol occuring at most twice (1,4)(2,3,5)']"
      ]
     },
     "execution_count": 16,
     "metadata": {},
     "output_type": "execute_result"
    }
   ],
   "source": [
    "allowedtranspos = [\"(1,3)\",\"(1,4)\",\"(2,3)\",\"(2,5)\",\"(3,5)\",\"(4,5)\"]\n",
    "checkclass(\"(1,2,3)(4,5)\",5,allowedtranspos,5)\n",
    "#Recursively counts the number of factorisations of each permutation of a given cycle type that use a given set of transpositions."
   ]
  },
  {
   "cell_type": "code",
   "execution_count": null,
   "metadata": {},
   "outputs": [],
   "source": []
  }
 ],
 "metadata": {
  "kernelspec": {
   "display_name": "SageMath 8.9",
   "language": "sage",
   "name": "sagemath"
  },
  "language_info": {
   "codemirror_mode": {
    "name": "ipython",
    "version": 2
   },
   "file_extension": ".py",
   "mimetype": "text/x-python",
   "name": "python",
   "nbconvert_exporter": "python",
   "pygments_lexer": "ipython2",
   "version": "2.7.15"
  }
 },
 "nbformat": 4,
 "nbformat_minor": 2
}
